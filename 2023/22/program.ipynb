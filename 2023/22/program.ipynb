{
 "cells": [
  {
   "cell_type": "code",
   "execution_count": 1,
   "metadata": {},
   "outputs": [],
   "source": [
    "import numpy as np\n",
    "D = open(\"input.txt\").read().strip()\n",
    "L = D.split('\\n')\n",
    "\n",
    "dic={}"
   ]
  },
  {
   "cell_type": "code",
   "execution_count": null,
   "metadata": {},
   "outputs": [],
   "source": [
    "ch=\"A\"\n",
    "for row in L:\n",
    "    c1,c2=row.split(\"~\")\n",
    "    x, y, z=c1.split(\",\")    \n",
    "    x1, y1, z1=c2.split(\",\")\n",
    "    if ch in dic:\n",
    "        ch*=2\n",
    "        print(ch)\n",
    "    dic[ch]=[[x, y, z],[x1, y1, z1]]\n",
    "    print(dic[ch])"
   ]
  },
  {
   "cell_type": "code",
   "execution_count": 2,
   "metadata": {},
   "outputs": [
    {
     "name": "stdout",
     "output_type": "stream",
     "text": [
      "0\n"
     ]
    }
   ],
   "source": [
    "\n",
    "print(len(dic))"
   ]
  }
 ],
 "metadata": {
  "kernelspec": {
   "display_name": "Python 3",
   "language": "python",
   "name": "python3"
  },
  "language_info": {
   "codemirror_mode": {
    "name": "ipython",
    "version": 3
   },
   "file_extension": ".py",
   "mimetype": "text/x-python",
   "name": "python",
   "nbconvert_exporter": "python",
   "pygments_lexer": "ipython3",
   "version": "3.12.1"
  }
 },
 "nbformat": 4,
 "nbformat_minor": 2
}
